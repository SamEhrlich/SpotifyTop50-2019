{
 "cells": [
  {
   "cell_type": "code",
   "execution_count": 121,
   "metadata": {},
   "outputs": [
    {
     "name": "stderr",
     "output_type": "stream",
     "text": [
      "\n",
      "Attaching package: ‘lubridate’\n",
      "\n",
      "The following object is masked from ‘package:base’:\n",
      "\n",
      "    date\n",
      "\n"
     ]
    }
   ],
   "source": [
    "#import libraries useful for graphing\n",
    "library(dplyr)\n",
    "library(ggplot2)\n",
    "library(RColorBrewer)\n",
    "library(lubridate)\n",
    "library(tidyr)\n",
    "library(forcats)"
   ]
  },
  {
   "cell_type": "code",
   "execution_count": 122,
   "metadata": {
    "scrolled": true
   },
   "outputs": [
    {
     "name": "stderr",
     "output_type": "stream",
     "text": [
      "Warning message in scan(file = file, what = what, sep = sep, quote = quote, dec = dec, :\n",
      "“invalid input found on input connection 'SpotifyTop50.csv'”"
     ]
    },
    {
     "data": {
      "text/html": [
       "<table>\n",
       "<caption>A data.frame: 6 × 14</caption>\n",
       "<thead>\n",
       "\t<tr><th scope=col>X</th><th scope=col>Track.Name</th><th scope=col>Artist.Name</th><th scope=col>Genre</th><th scope=col>Beats.Per.Minute</th><th scope=col>Energy</th><th scope=col>Danceability</th><th scope=col>Loudness..dB..</th><th scope=col>Liveness</th><th scope=col>Valence.</th><th scope=col>Length.</th><th scope=col>Acousticness..</th><th scope=col>Speechiness.</th><th scope=col>Popularity</th></tr>\n",
       "\t<tr><th scope=col>&lt;int&gt;</th><th scope=col>&lt;fct&gt;</th><th scope=col>&lt;fct&gt;</th><th scope=col>&lt;fct&gt;</th><th scope=col>&lt;int&gt;</th><th scope=col>&lt;int&gt;</th><th scope=col>&lt;int&gt;</th><th scope=col>&lt;int&gt;</th><th scope=col>&lt;int&gt;</th><th scope=col>&lt;int&gt;</th><th scope=col>&lt;int&gt;</th><th scope=col>&lt;int&gt;</th><th scope=col>&lt;int&gt;</th><th scope=col>&lt;int&gt;</th></tr>\n",
       "</thead>\n",
       "<tbody>\n",
       "\t<tr><td>1</td><td>Senorita                         </td><td>Shawn Mendes </td><td>canadian pop  </td><td>117</td><td>55</td><td>76</td><td>-6</td><td> 8</td><td>75</td><td>191</td><td> 4</td><td> 3</td><td>79</td></tr>\n",
       "\t<tr><td>2</td><td>China                            </td><td>Anuel AA     </td><td>reggaeton flow</td><td>105</td><td>81</td><td>79</td><td>-4</td><td> 8</td><td>61</td><td>302</td><td> 8</td><td> 9</td><td>92</td></tr>\n",
       "\t<tr><td>3</td><td>boyfriend (with Social House)    </td><td>Ariana Grande</td><td>dance pop     </td><td>190</td><td>80</td><td>40</td><td>-4</td><td>16</td><td>70</td><td>186</td><td>12</td><td>46</td><td>85</td></tr>\n",
       "\t<tr><td>4</td><td>Beautiful People (feat. Khalid)  </td><td>Ed Sheeran   </td><td>pop           </td><td> 93</td><td>65</td><td>64</td><td>-8</td><td> 8</td><td>55</td><td>198</td><td>12</td><td>19</td><td>86</td></tr>\n",
       "\t<tr><td>5</td><td>Goodbyes (Feat. Young Thug)      </td><td>Post Malone  </td><td>dfw rap       </td><td>150</td><td>65</td><td>58</td><td>-4</td><td>11</td><td>18</td><td>175</td><td>45</td><td> 7</td><td>94</td></tr>\n",
       "\t<tr><td>6</td><td>I Don't Care (with Justin Bieber)</td><td>Ed Sheeran   </td><td>pop           </td><td>102</td><td>68</td><td>80</td><td>-5</td><td> 9</td><td>84</td><td>220</td><td> 9</td><td> 4</td><td>84</td></tr>\n",
       "</tbody>\n",
       "</table>\n"
      ],
      "text/latex": [
       "A data.frame: 6 × 14\n",
       "\\begin{tabular}{r|llllllllllllll}\n",
       " X & Track.Name & Artist.Name & Genre & Beats.Per.Minute & Energy & Danceability & Loudness..dB.. & Liveness & Valence. & Length. & Acousticness.. & Speechiness. & Popularity\\\\\n",
       " <int> & <fct> & <fct> & <fct> & <int> & <int> & <int> & <int> & <int> & <int> & <int> & <int> & <int> & <int>\\\\\n",
       "\\hline\n",
       "\t 1 & Senorita                          & Shawn Mendes  & canadian pop   & 117 & 55 & 76 & -6 &  8 & 75 & 191 &  4 &  3 & 79\\\\\n",
       "\t 2 & China                             & Anuel AA      & reggaeton flow & 105 & 81 & 79 & -4 &  8 & 61 & 302 &  8 &  9 & 92\\\\\n",
       "\t 3 & boyfriend (with Social House)     & Ariana Grande & dance pop      & 190 & 80 & 40 & -4 & 16 & 70 & 186 & 12 & 46 & 85\\\\\n",
       "\t 4 & Beautiful People (feat. Khalid)   & Ed Sheeran    & pop            &  93 & 65 & 64 & -8 &  8 & 55 & 198 & 12 & 19 & 86\\\\\n",
       "\t 5 & Goodbyes (Feat. Young Thug)       & Post Malone   & dfw rap        & 150 & 65 & 58 & -4 & 11 & 18 & 175 & 45 &  7 & 94\\\\\n",
       "\t 6 & I Don't Care (with Justin Bieber) & Ed Sheeran    & pop            & 102 & 68 & 80 & -5 &  9 & 84 & 220 &  9 &  4 & 84\\\\\n",
       "\\end{tabular}\n"
      ],
      "text/markdown": [
       "\n",
       "A data.frame: 6 × 14\n",
       "\n",
       "| X &lt;int&gt; | Track.Name &lt;fct&gt; | Artist.Name &lt;fct&gt; | Genre &lt;fct&gt; | Beats.Per.Minute &lt;int&gt; | Energy &lt;int&gt; | Danceability &lt;int&gt; | Loudness..dB.. &lt;int&gt; | Liveness &lt;int&gt; | Valence. &lt;int&gt; | Length. &lt;int&gt; | Acousticness.. &lt;int&gt; | Speechiness. &lt;int&gt; | Popularity &lt;int&gt; |\n",
       "|---|---|---|---|---|---|---|---|---|---|---|---|---|---|\n",
       "| 1 | Senorita                          | Shawn Mendes  | canadian pop   | 117 | 55 | 76 | -6 |  8 | 75 | 191 |  4 |  3 | 79 |\n",
       "| 2 | China                             | Anuel AA      | reggaeton flow | 105 | 81 | 79 | -4 |  8 | 61 | 302 |  8 |  9 | 92 |\n",
       "| 3 | boyfriend (with Social House)     | Ariana Grande | dance pop      | 190 | 80 | 40 | -4 | 16 | 70 | 186 | 12 | 46 | 85 |\n",
       "| 4 | Beautiful People (feat. Khalid)   | Ed Sheeran    | pop            |  93 | 65 | 64 | -8 |  8 | 55 | 198 | 12 | 19 | 86 |\n",
       "| 5 | Goodbyes (Feat. Young Thug)       | Post Malone   | dfw rap        | 150 | 65 | 58 | -4 | 11 | 18 | 175 | 45 |  7 | 94 |\n",
       "| 6 | I Don't Care (with Justin Bieber) | Ed Sheeran    | pop            | 102 | 68 | 80 | -5 |  9 | 84 | 220 |  9 |  4 | 84 |\n",
       "\n"
      ],
      "text/plain": [
       "  X Track.Name                        Artist.Name   Genre         \n",
       "1 1 Senorita                          Shawn Mendes  canadian pop  \n",
       "2 2 China                             Anuel AA      reggaeton flow\n",
       "3 3 boyfriend (with Social House)     Ariana Grande dance pop     \n",
       "4 4 Beautiful People (feat. Khalid)   Ed Sheeran    pop           \n",
       "5 5 Goodbyes (Feat. Young Thug)       Post Malone   dfw rap       \n",
       "6 6 I Don't Care (with Justin Bieber) Ed Sheeran    pop           \n",
       "  Beats.Per.Minute Energy Danceability Loudness..dB.. Liveness Valence. Length.\n",
       "1 117              55     76           -6              8       75       191    \n",
       "2 105              81     79           -4              8       61       302    \n",
       "3 190              80     40           -4             16       70       186    \n",
       "4  93              65     64           -8              8       55       198    \n",
       "5 150              65     58           -4             11       18       175    \n",
       "6 102              68     80           -5              9       84       220    \n",
       "  Acousticness.. Speechiness. Popularity\n",
       "1  4              3           79        \n",
       "2  8              9           92        \n",
       "3 12             46           85        \n",
       "4 12             19           86        \n",
       "5 45              7           94        \n",
       "6  9              4           84        "
      ]
     },
     "metadata": {},
     "output_type": "display_data"
    }
   ],
   "source": [
    "#read in csv\n",
    "df <- read.csv('SpotifyTop50.csv', fileEncoding = \"UTF-8\")\n",
    "head(df)"
   ]
  },
  {
   "cell_type": "code",
   "execution_count": 123,
   "metadata": {},
   "outputs": [
    {
     "data": {
      "text/html": [
       "<ol class=list-inline>\n",
       "\t<li>'x'</li>\n",
       "\t<li>'track.name'</li>\n",
       "\t<li>'artist.name'</li>\n",
       "\t<li>'genre'</li>\n",
       "\t<li>'beats.per.minute'</li>\n",
       "\t<li>'energy'</li>\n",
       "\t<li>'danceability'</li>\n",
       "\t<li>'loudness..db..'</li>\n",
       "\t<li>'liveness'</li>\n",
       "\t<li>'valence.'</li>\n",
       "\t<li>'length.'</li>\n",
       "\t<li>'acousticness..'</li>\n",
       "\t<li>'speechiness.'</li>\n",
       "\t<li>'popularity'</li>\n",
       "</ol>\n"
      ],
      "text/latex": [
       "\\begin{enumerate*}\n",
       "\\item 'x'\n",
       "\\item 'track.name'\n",
       "\\item 'artist.name'\n",
       "\\item 'genre'\n",
       "\\item 'beats.per.minute'\n",
       "\\item 'energy'\n",
       "\\item 'danceability'\n",
       "\\item 'loudness..db..'\n",
       "\\item 'liveness'\n",
       "\\item 'valence.'\n",
       "\\item 'length.'\n",
       "\\item 'acousticness..'\n",
       "\\item 'speechiness.'\n",
       "\\item 'popularity'\n",
       "\\end{enumerate*}\n"
      ],
      "text/markdown": [
       "1. 'x'\n",
       "2. 'track.name'\n",
       "3. 'artist.name'\n",
       "4. 'genre'\n",
       "5. 'beats.per.minute'\n",
       "6. 'energy'\n",
       "7. 'danceability'\n",
       "8. 'loudness..db..'\n",
       "9. 'liveness'\n",
       "10. 'valence.'\n",
       "11. 'length.'\n",
       "12. 'acousticness..'\n",
       "13. 'speechiness.'\n",
       "14. 'popularity'\n",
       "\n",
       "\n"
      ],
      "text/plain": [
       " [1] \"x\"                \"track.name\"       \"artist.name\"      \"genre\"           \n",
       " [5] \"beats.per.minute\" \"energy\"           \"danceability\"     \"loudness..db..\"  \n",
       " [9] \"liveness\"         \"valence.\"         \"length.\"          \"acousticness..\"  \n",
       "[13] \"speechiness.\"     \"popularity\"      "
      ]
     },
     "metadata": {},
     "output_type": "display_data"
    }
   ],
   "source": [
    "#adjust column names\n",
    "colnames(df) <- tolower(colnames(df))\n",
    "colnames(df)"
   ]
  },
  {
   "cell_type": "code",
   "execution_count": 124,
   "metadata": {},
   "outputs": [],
   "source": [
    "#further adjust column names\n",
    "df <- df %>%\n",
    "rename('id' = 'x' , 'bpm' = 'beats.per.minute', 'loudness' = 'loudness..db..', 'acousticness' = 'acousticness..', \n",
    "             'speechiness' = 'speechiness.', 'positivity' = 'valence.', 'length' = 'length.', \n",
    "             'track' = 'track.name', 'artist' = 'artist.name')"
   ]
  },
  {
   "cell_type": "code",
   "execution_count": 125,
   "metadata": {},
   "outputs": [
    {
     "data": {
      "text/html": [
       "<table>\n",
       "<caption>A data.frame: 6 × 14</caption>\n",
       "<thead>\n",
       "\t<tr><th scope=col>id</th><th scope=col>track</th><th scope=col>artist</th><th scope=col>genre</th><th scope=col>bpm</th><th scope=col>energy</th><th scope=col>danceability</th><th scope=col>loudness</th><th scope=col>liveness</th><th scope=col>positivity</th><th scope=col>length</th><th scope=col>acousticness</th><th scope=col>speechiness</th><th scope=col>popularity</th></tr>\n",
       "\t<tr><th scope=col>&lt;int&gt;</th><th scope=col>&lt;fct&gt;</th><th scope=col>&lt;fct&gt;</th><th scope=col>&lt;fct&gt;</th><th scope=col>&lt;int&gt;</th><th scope=col>&lt;int&gt;</th><th scope=col>&lt;int&gt;</th><th scope=col>&lt;int&gt;</th><th scope=col>&lt;int&gt;</th><th scope=col>&lt;int&gt;</th><th scope=col>&lt;int&gt;</th><th scope=col>&lt;int&gt;</th><th scope=col>&lt;int&gt;</th><th scope=col>&lt;int&gt;</th></tr>\n",
       "</thead>\n",
       "<tbody>\n",
       "\t<tr><td>1</td><td>Senorita                         </td><td>Shawn Mendes </td><td>canadian pop  </td><td>117</td><td>55</td><td>76</td><td>-6</td><td> 8</td><td>75</td><td>191</td><td> 4</td><td> 3</td><td>79</td></tr>\n",
       "\t<tr><td>2</td><td>China                            </td><td>Anuel AA     </td><td>reggaeton flow</td><td>105</td><td>81</td><td>79</td><td>-4</td><td> 8</td><td>61</td><td>302</td><td> 8</td><td> 9</td><td>92</td></tr>\n",
       "\t<tr><td>3</td><td>boyfriend (with Social House)    </td><td>Ariana Grande</td><td>dance pop     </td><td>190</td><td>80</td><td>40</td><td>-4</td><td>16</td><td>70</td><td>186</td><td>12</td><td>46</td><td>85</td></tr>\n",
       "\t<tr><td>4</td><td>Beautiful People (feat. Khalid)  </td><td>Ed Sheeran   </td><td>pop           </td><td> 93</td><td>65</td><td>64</td><td>-8</td><td> 8</td><td>55</td><td>198</td><td>12</td><td>19</td><td>86</td></tr>\n",
       "\t<tr><td>5</td><td>Goodbyes (Feat. Young Thug)      </td><td>Post Malone  </td><td>dfw rap       </td><td>150</td><td>65</td><td>58</td><td>-4</td><td>11</td><td>18</td><td>175</td><td>45</td><td> 7</td><td>94</td></tr>\n",
       "\t<tr><td>6</td><td>I Don't Care (with Justin Bieber)</td><td>Ed Sheeran   </td><td>pop           </td><td>102</td><td>68</td><td>80</td><td>-5</td><td> 9</td><td>84</td><td>220</td><td> 9</td><td> 4</td><td>84</td></tr>\n",
       "</tbody>\n",
       "</table>\n"
      ],
      "text/latex": [
       "A data.frame: 6 × 14\n",
       "\\begin{tabular}{r|llllllllllllll}\n",
       " id & track & artist & genre & bpm & energy & danceability & loudness & liveness & positivity & length & acousticness & speechiness & popularity\\\\\n",
       " <int> & <fct> & <fct> & <fct> & <int> & <int> & <int> & <int> & <int> & <int> & <int> & <int> & <int> & <int>\\\\\n",
       "\\hline\n",
       "\t 1 & Senorita                          & Shawn Mendes  & canadian pop   & 117 & 55 & 76 & -6 &  8 & 75 & 191 &  4 &  3 & 79\\\\\n",
       "\t 2 & China                             & Anuel AA      & reggaeton flow & 105 & 81 & 79 & -4 &  8 & 61 & 302 &  8 &  9 & 92\\\\\n",
       "\t 3 & boyfriend (with Social House)     & Ariana Grande & dance pop      & 190 & 80 & 40 & -4 & 16 & 70 & 186 & 12 & 46 & 85\\\\\n",
       "\t 4 & Beautiful People (feat. Khalid)   & Ed Sheeran    & pop            &  93 & 65 & 64 & -8 &  8 & 55 & 198 & 12 & 19 & 86\\\\\n",
       "\t 5 & Goodbyes (Feat. Young Thug)       & Post Malone   & dfw rap        & 150 & 65 & 58 & -4 & 11 & 18 & 175 & 45 &  7 & 94\\\\\n",
       "\t 6 & I Don't Care (with Justin Bieber) & Ed Sheeran    & pop            & 102 & 68 & 80 & -5 &  9 & 84 & 220 &  9 &  4 & 84\\\\\n",
       "\\end{tabular}\n"
      ],
      "text/markdown": [
       "\n",
       "A data.frame: 6 × 14\n",
       "\n",
       "| id &lt;int&gt; | track &lt;fct&gt; | artist &lt;fct&gt; | genre &lt;fct&gt; | bpm &lt;int&gt; | energy &lt;int&gt; | danceability &lt;int&gt; | loudness &lt;int&gt; | liveness &lt;int&gt; | positivity &lt;int&gt; | length &lt;int&gt; | acousticness &lt;int&gt; | speechiness &lt;int&gt; | popularity &lt;int&gt; |\n",
       "|---|---|---|---|---|---|---|---|---|---|---|---|---|---|\n",
       "| 1 | Senorita                          | Shawn Mendes  | canadian pop   | 117 | 55 | 76 | -6 |  8 | 75 | 191 |  4 |  3 | 79 |\n",
       "| 2 | China                             | Anuel AA      | reggaeton flow | 105 | 81 | 79 | -4 |  8 | 61 | 302 |  8 |  9 | 92 |\n",
       "| 3 | boyfriend (with Social House)     | Ariana Grande | dance pop      | 190 | 80 | 40 | -4 | 16 | 70 | 186 | 12 | 46 | 85 |\n",
       "| 4 | Beautiful People (feat. Khalid)   | Ed Sheeran    | pop            |  93 | 65 | 64 | -8 |  8 | 55 | 198 | 12 | 19 | 86 |\n",
       "| 5 | Goodbyes (Feat. Young Thug)       | Post Malone   | dfw rap        | 150 | 65 | 58 | -4 | 11 | 18 | 175 | 45 |  7 | 94 |\n",
       "| 6 | I Don't Care (with Justin Bieber) | Ed Sheeran    | pop            | 102 | 68 | 80 | -5 |  9 | 84 | 220 |  9 |  4 | 84 |\n",
       "\n"
      ],
      "text/plain": [
       "  id track                             artist        genre          bpm energy\n",
       "1 1  Senorita                          Shawn Mendes  canadian pop   117 55    \n",
       "2 2  China                             Anuel AA      reggaeton flow 105 81    \n",
       "3 3  boyfriend (with Social House)     Ariana Grande dance pop      190 80    \n",
       "4 4  Beautiful People (feat. Khalid)   Ed Sheeran    pop             93 65    \n",
       "5 5  Goodbyes (Feat. Young Thug)       Post Malone   dfw rap        150 65    \n",
       "6 6  I Don't Care (with Justin Bieber) Ed Sheeran    pop            102 68    \n",
       "  danceability loudness liveness positivity length acousticness speechiness\n",
       "1 76           -6        8       75         191     4            3         \n",
       "2 79           -4        8       61         302     8            9         \n",
       "3 40           -4       16       70         186    12           46         \n",
       "4 64           -8        8       55         198    12           19         \n",
       "5 58           -4       11       18         175    45            7         \n",
       "6 80           -5        9       84         220     9            4         \n",
       "  popularity\n",
       "1 79        \n",
       "2 92        \n",
       "3 85        \n",
       "4 86        \n",
       "5 94        \n",
       "6 84        "
      ]
     },
     "metadata": {},
     "output_type": "display_data"
    }
   ],
   "source": [
    "#clean up data by removing the one empty row\n",
    "df <- na.omit(df)\n",
    "head(df)"
   ]
  },
  {
   "cell_type": "code",
   "execution_count": 126,
   "metadata": {
    "scrolled": true
   },
   "outputs": [
    {
     "data": {
      "text/plain": [
       "       id                                    track              artist \n",
       " Min.   : 1.00   bad guy                        : 1   Ed Sheeran   :2  \n",
       " 1st Qu.: 4.75   Beautiful People (feat. Khalid): 1   Anuel AA     :1  \n",
       " Median : 8.50   boyfriend (with Social House)  : 1   Ariana Grande:1  \n",
       " Mean   : 8.50   Callaita                       : 1   Bad Bunny    :1  \n",
       " 3rd Qu.:12.25   China                          : 1   Billie Eilish:1  \n",
       " Max.   :16.00   Goodbyes (Feat. Young Thug)    : 1   Chris Brown  :1  \n",
       "                 (Other)                        :10   (Other)      :9  \n",
       "              genre        bpm            energy       danceability  \n",
       " pop             :4   Min.   : 93.0   Min.   :41.00   Min.   :40.00  \n",
       " dance pop       :3   1st Qu.:101.8   1st Qu.:53.75   1st Qu.:60.25  \n",
       " canadian hip hop:1   Median :114.0   Median :64.50   Median :71.50  \n",
       " canadian pop    :1   Mean   :129.4   Mean   :62.44   Mean   :68.56  \n",
       " country rap     :1   3rd Qu.:156.5   3rd Qu.:68.75   3rd Qu.:79.25  \n",
       " dfw rap         :1   Max.   :190.0   Max.   :81.00   Max.   :88.00  \n",
       " (Other)         :5                                                  \n",
       "    loudness          liveness       positivity        length     \n",
       " Min.   :-11.000   Min.   : 6.00   Min.   :10.00   Min.   :131.0  \n",
       " 1st Qu.: -6.000   1st Qu.: 8.00   1st Qu.:23.75   1st Qu.:184.2  \n",
       " Median : -5.000   Median :10.50   Median :50.00   Median :196.0  \n",
       " Mean   : -5.438   Mean   :11.25   Mean   :46.75   Mean   :208.0  \n",
       " 3rd Qu.: -4.000   3rd Qu.:12.75   3rd Qu.:65.50   3rd Qu.:227.8  \n",
       " Max.   : -2.000   Max.   :24.00   Max.   :84.00   Max.   :302.0  \n",
       "                                                                  \n",
       "  acousticness    speechiness      popularity   \n",
       " Min.   : 2.00   Min.   : 3.00   Min.   :79.00  \n",
       " 1st Qu.: 7.75   1st Qu.: 6.50   1st Qu.:85.75  \n",
       " Median :12.00   Median : 9.50   Median :87.50  \n",
       " Mean   :21.06   Mean   :15.94   Mean   :88.25  \n",
       " 3rd Qu.:29.25   3rd Qu.:22.25   3rd Qu.:92.00  \n",
       " Max.   :75.00   Max.   :46.00   Max.   :95.00  \n",
       "                                                "
      ]
     },
     "metadata": {},
     "output_type": "display_data"
    }
   ],
   "source": [
    "#learn a little more about the data\n",
    "summary(df)"
   ]
  },
  {
   "cell_type": "code",
   "execution_count": 127,
   "metadata": {},
   "outputs": [
    {
     "data": {
      "text/html": [
       "<table>\n",
       "<caption>A data.frame: 7 × 14</caption>\n",
       "<thead>\n",
       "\t<tr><th scope=col>id</th><th scope=col>track</th><th scope=col>artist</th><th scope=col>genre</th><th scope=col>bpm</th><th scope=col>energy</th><th scope=col>danceability</th><th scope=col>loudness</th><th scope=col>liveness</th><th scope=col>positivity</th><th scope=col>length</th><th scope=col>acousticness</th><th scope=col>speechiness</th><th scope=col>popularity</th></tr>\n",
       "\t<tr><th scope=col>&lt;int&gt;</th><th scope=col>&lt;fct&gt;</th><th scope=col>&lt;fct&gt;</th><th scope=col>&lt;fct&gt;</th><th scope=col>&lt;int&gt;</th><th scope=col>&lt;int&gt;</th><th scope=col>&lt;int&gt;</th><th scope=col>&lt;int&gt;</th><th scope=col>&lt;int&gt;</th><th scope=col>&lt;int&gt;</th><th scope=col>&lt;int&gt;</th><th scope=col>&lt;int&gt;</th><th scope=col>&lt;int&gt;</th><th scope=col>&lt;int&gt;</th></tr>\n",
       "</thead>\n",
       "<tbody>\n",
       "\t<tr><td> 3</td><td>boyfriend (with Social House)</td><td>Ariana Grande</td><td>dance pop     </td><td>190</td><td>80</td><td>40</td><td> -4</td><td>16</td><td>70</td><td>186</td><td>12</td><td>46</td><td>85</td></tr>\n",
       "\t<tr><td> 7</td><td>Ransom                       </td><td>Lil Tecca    </td><td>trap music    </td><td>180</td><td>64</td><td>75</td><td> -6</td><td> 7</td><td>23</td><td>131</td><td> 2</td><td>29</td><td>92</td></tr>\n",
       "\t<tr><td>11</td><td>Callaita                     </td><td>Bad Bunny    </td><td>reggaeton     </td><td>176</td><td>62</td><td>61</td><td> -5</td><td>24</td><td>24</td><td>251</td><td>60</td><td>31</td><td>93</td></tr>\n",
       "\t<tr><td>14</td><td>Otro Trago - Remix           </td><td>Sech         </td><td>panamanian pop</td><td>176</td><td>79</td><td>73</td><td> -2</td><td> 6</td><td>76</td><td>288</td><td> 7</td><td>20</td><td>87</td></tr>\n",
       "\t<tr><td> 5</td><td>Goodbyes (Feat. Young Thug)  </td><td>Post Malone  </td><td>dfw rap       </td><td>150</td><td>65</td><td>58</td><td> -4</td><td>11</td><td>18</td><td>175</td><td>45</td><td> 7</td><td>94</td></tr>\n",
       "\t<tr><td> 9</td><td>Old Town Road - Remix        </td><td>Lil Nas X    </td><td>country rap   </td><td>136</td><td>62</td><td>88</td><td> -6</td><td>11</td><td>64</td><td>157</td><td> 5</td><td>10</td><td>87</td></tr>\n",
       "\t<tr><td>10</td><td>bad guy                      </td><td>Billie Eilish</td><td>electropop    </td><td>135</td><td>43</td><td>70</td><td>-11</td><td>10</td><td>56</td><td>194</td><td>33</td><td>38</td><td>95</td></tr>\n",
       "</tbody>\n",
       "</table>\n"
      ],
      "text/latex": [
       "A data.frame: 7 × 14\n",
       "\\begin{tabular}{r|llllllllllllll}\n",
       " id & track & artist & genre & bpm & energy & danceability & loudness & liveness & positivity & length & acousticness & speechiness & popularity\\\\\n",
       " <int> & <fct> & <fct> & <fct> & <int> & <int> & <int> & <int> & <int> & <int> & <int> & <int> & <int> & <int>\\\\\n",
       "\\hline\n",
       "\t  3 & boyfriend (with Social House) & Ariana Grande & dance pop      & 190 & 80 & 40 &  -4 & 16 & 70 & 186 & 12 & 46 & 85\\\\\n",
       "\t  7 & Ransom                        & Lil Tecca     & trap music     & 180 & 64 & 75 &  -6 &  7 & 23 & 131 &  2 & 29 & 92\\\\\n",
       "\t 11 & Callaita                      & Bad Bunny     & reggaeton      & 176 & 62 & 61 &  -5 & 24 & 24 & 251 & 60 & 31 & 93\\\\\n",
       "\t 14 & Otro Trago - Remix            & Sech          & panamanian pop & 176 & 79 & 73 &  -2 &  6 & 76 & 288 &  7 & 20 & 87\\\\\n",
       "\t  5 & Goodbyes (Feat. Young Thug)   & Post Malone   & dfw rap        & 150 & 65 & 58 &  -4 & 11 & 18 & 175 & 45 &  7 & 94\\\\\n",
       "\t  9 & Old Town Road - Remix         & Lil Nas X     & country rap    & 136 & 62 & 88 &  -6 & 11 & 64 & 157 &  5 & 10 & 87\\\\\n",
       "\t 10 & bad guy                       & Billie Eilish & electropop     & 135 & 43 & 70 & -11 & 10 & 56 & 194 & 33 & 38 & 95\\\\\n",
       "\\end{tabular}\n"
      ],
      "text/markdown": [
       "\n",
       "A data.frame: 7 × 14\n",
       "\n",
       "| id &lt;int&gt; | track &lt;fct&gt; | artist &lt;fct&gt; | genre &lt;fct&gt; | bpm &lt;int&gt; | energy &lt;int&gt; | danceability &lt;int&gt; | loudness &lt;int&gt; | liveness &lt;int&gt; | positivity &lt;int&gt; | length &lt;int&gt; | acousticness &lt;int&gt; | speechiness &lt;int&gt; | popularity &lt;int&gt; |\n",
       "|---|---|---|---|---|---|---|---|---|---|---|---|---|---|\n",
       "|  3 | boyfriend (with Social House) | Ariana Grande | dance pop      | 190 | 80 | 40 |  -4 | 16 | 70 | 186 | 12 | 46 | 85 |\n",
       "|  7 | Ransom                        | Lil Tecca     | trap music     | 180 | 64 | 75 |  -6 |  7 | 23 | 131 |  2 | 29 | 92 |\n",
       "| 11 | Callaita                      | Bad Bunny     | reggaeton      | 176 | 62 | 61 |  -5 | 24 | 24 | 251 | 60 | 31 | 93 |\n",
       "| 14 | Otro Trago - Remix            | Sech          | panamanian pop | 176 | 79 | 73 |  -2 |  6 | 76 | 288 |  7 | 20 | 87 |\n",
       "|  5 | Goodbyes (Feat. Young Thug)   | Post Malone   | dfw rap        | 150 | 65 | 58 |  -4 | 11 | 18 | 175 | 45 |  7 | 94 |\n",
       "|  9 | Old Town Road - Remix         | Lil Nas X     | country rap    | 136 | 62 | 88 |  -6 | 11 | 64 | 157 |  5 | 10 | 87 |\n",
       "| 10 | bad guy                       | Billie Eilish | electropop     | 135 | 43 | 70 | -11 | 10 | 56 | 194 | 33 | 38 | 95 |\n",
       "\n"
      ],
      "text/plain": [
       "  id track                         artist        genre          bpm energy\n",
       "1  3 boyfriend (with Social House) Ariana Grande dance pop      190 80    \n",
       "2  7 Ransom                        Lil Tecca     trap music     180 64    \n",
       "3 11 Callaita                      Bad Bunny     reggaeton      176 62    \n",
       "4 14 Otro Trago - Remix            Sech          panamanian pop 176 79    \n",
       "5  5 Goodbyes (Feat. Young Thug)   Post Malone   dfw rap        150 65    \n",
       "6  9 Old Town Road - Remix         Lil Nas X     country rap    136 62    \n",
       "7 10 bad guy                       Billie Eilish electropop     135 43    \n",
       "  danceability loudness liveness positivity length acousticness speechiness\n",
       "1 40            -4      16       70         186    12           46         \n",
       "2 75            -6       7       23         131     2           29         \n",
       "3 61            -5      24       24         251    60           31         \n",
       "4 73            -2       6       76         288     7           20         \n",
       "5 58            -4      11       18         175    45            7         \n",
       "6 88            -6      11       64         157     5           10         \n",
       "7 70           -11      10       56         194    33           38         \n",
       "  popularity\n",
       "1 85        \n",
       "2 92        \n",
       "3 93        \n",
       "4 87        \n",
       "5 94        \n",
       "6 87        \n",
       "7 95        "
      ]
     },
     "metadata": {},
     "output_type": "display_data"
    }
   ],
   "source": [
    "#filter the data based on the summary above. Here I am taking only songs above the mean BPM\n",
    "#I considered taking the 3rd Quadrant, but it only had 4 songs which did not make for a good graph\n",
    "fast_songs <-  df %>%\n",
    "filter(bpm >= 129.4) %>%\n",
    "arrange(desc(bpm))\n",
    "\n",
    "fast_songs"
   ]
  },
  {
   "cell_type": "code",
   "execution_count": 130,
   "metadata": {},
   "outputs": [],
   "source": [
    "#creating a color palette for labeling the artists\n",
    "#this is good for making more than one graph and keeping colors consistent throughout\n",
    "color_scheme_fs <- c('#97233F', '#0F4589','#313F36','#C9233F','#3B0160', '#322820', '#DF6108')"
   ]
  },
  {
   "cell_type": "code",
   "execution_count": 134,
   "metadata": {},
   "outputs": [],
   "source": [
    "#order the songs from least to greatest bpm to match their color scheme\n",
    "fast_songs$track <- factor(fast_songs$track, levels = c('boyfriend (with Social House)',\n",
    "                    'Ransom', 'Callaita', 'Otro Trago - Remix', 'Goodbyes (Feat. Young Thug)', \n",
    "                    'Old Town Road - Remix', 'bad guy'))"
   ]
  },
  {
   "cell_type": "code",
   "execution_count": 152,
   "metadata": {
    "scrolled": false
   },
   "outputs": [
    {
     "data": {
      "image/png": "[encoded data removed]",
      "text/plain": [
       "plot without title"
      ]
     },
     "metadata": {},
     "output_type": "display_data"
    }
   ],
   "source": [
    "#plot the data in a scatter plot to show the difference in BPM through track and artist \n",
    "ggplot(fast_songs, aes(x=track, y=bpm, size =bpm*2)) + #bpm scales by size but the point was small so I mult by 2\n",
    "    geom_point(aes(color=artist)) + #the color of each point changes by the artist\n",
    "    scale_fill_manual(values = color_scheme_fs) + #the color scheme uses the one created above\n",
    "    labs(title='These Are The Songs With The Highest \\nBPM From Spotify\\'s Top 50 2019',\n",
    "         x='Track Name', y='BPM') +\n",
    "    geom_text(aes(label=bpm),vjust = -1.5, colour = \"black\", size = 2.5) + #put the y axis number right above the points\n",
    "    scale_size(guide='none') + #remove the legend for the sizes \n",
    "    guides(color=guide_legend('Artist')) + theme_bw() + #rename the other legend to Artists & change theme\n",
    "    theme(axis.text.x = element_text(angle = 90, vjust =0.5)) #adjust the x axis so the text does not overlap or go into the graph\n",
    "    "
   ]
  }
 ],
 "metadata": {
  "kernelspec": {
   "display_name": "R",
   "language": "R",
   "name": "ir"
  },
  "language_info": {
   "codemirror_mode": "r",
   "file_extension": ".r",
   "mimetype": "text/x-r-source",
   "name": "R",
   "pygments_lexer": "r",
   "version": "3.5.1"
  }
 },
 "nbformat": 4,
 "nbformat_minor": 2
}
